{
 "cells": [
  {
   "cell_type": "code",
   "execution_count": 1,
   "id": "b5f18934-79fa-43ea-ae94-7fd40d4d4f53",
   "metadata": {},
   "outputs": [],
   "source": [
    "import pandas as pd\n",
    "import numpy as np\n",
    "import psycopg2\n",
    "import re\n",
    "import datetime\n",
    "from datetime import timedelta\n",
    "import warnings\n",
    "\n",
    "warnings.filterwarnings('ignore')\n",
    "pd.set_option('display.max_columns',100)"
   ]
  },
  {
   "cell_type": "code",
   "execution_count": 2,
   "id": "4d33ccf6-4470-4903-9671-996418990a74",
   "metadata": {},
   "outputs": [],
   "source": [
    "def life_connection(script):\n",
    "    conn = psycopg2.connect(host = '178.128.35.73',\n",
    "                        database = 'LibertyLife',\n",
    "                        user = 'datauser',\n",
    "                        password = 'libEkh12@',\n",
    "                        port = '5432'\n",
    "                        )\n",
    "    cur = conn.cursor()\n",
    "    received_script = script\n",
    "    query = pd.read_sql_query(received_script, conn) \n",
    "    return query"
   ]
  },
  {
   "cell_type": "markdown",
   "id": "382fc93e-52e8-45f5-aa93-64c0f21a207a",
   "metadata": {},
   "source": [
    "### Subsription_type\n",
    "-  Individual\n",
    "- Family\n",
    "- Corporate"
   ]
  },
  {
   "cell_type": "code",
   "execution_count": null,
   "id": "4a1bd382-18c3-4c9f-9fb0-203c4dc8d8cf",
   "metadata": {},
   "outputs": [],
   "source": [
    "subscription_plan = '''\n",
    "\n",
    "FROM \n",
    "    life_insurance_healthplan"
   ]
  },
  {
   "cell_type": "markdown",
   "id": "544a641d-51ad-4cf7-95b7-224d2ccd24e1",
   "metadata": {},
   "source": [
    "#### Revenue Source\n",
    "-  Seeds and Pennies\n",
    "- Agents\n",
    "- Referrals"
   ]
  },
  {
   "cell_type": "markdown",
   "id": "857d5021-b296-43e2-8152-a035daed7aa7",
   "metadata": {},
   "source": [
    "Note: To check for the amount paid and received as revenue check the amount column and not the amount_paid column"
   ]
  },
  {
   "cell_type": "code",
   "execution_count": null,
   "id": "51cee664-a1ae-4ac3-8414-f612d1c03549",
   "metadata": {},
   "outputs": [],
   "source": []
  }
 ],
 "metadata": {
  "kernelspec": {
   "display_name": "Python 3 (ipykernel)",
   "language": "python",
   "name": "python3"
  },
  "language_info": {
   "codemirror_mode": {
    "name": "ipython",
    "version": 3
   },
   "file_extension": ".py",
   "mimetype": "text/x-python",
   "name": "python",
   "nbconvert_exporter": "python",
   "pygments_lexer": "ipython3",
   "version": "3.11.5"
  }
 },
 "nbformat": 4,
 "nbformat_minor": 5
}
